{
 "cells": [
  {
   "cell_type": "code",
   "execution_count": 1,
   "metadata": {},
   "outputs": [],
   "source": [
    "import tensorflow as tf"
   ]
  },
  {
   "cell_type": "markdown",
   "metadata": {},
   "source": [
    "这三种方式所定义的变量具有相同的类型。而且只有 tf.get_variable() 创建的变量之间会发生命名冲突。在实际使用中，三种创建变量方式的用途也是分工非常明确的。其中\n",
    "\n",
    "    tf.placeholder() 占位符。* trainable==False *\n",
    "    tf.Variable() 一般变量用这种方式定义。 * 可以选择 trainable 类型 *\n",
    "    tf.get_variable() 一般都是和 tf.variable_scope() 配合使用，从而实现变量共享的功能。 * 可以选择 trainable 类型 *\n"
   ]
  },
  {
   "cell_type": "code",
   "execution_count": 2,
   "metadata": {},
   "outputs": [
    {
     "name": "stdout",
     "output_type": "stream",
     "text": [
      "Placeholder:0\n",
      "ph:0\n",
      "ph_1:0\n",
      "<class 'tensorflow.python.framework.ops.Tensor'>\n",
      "Tensor(\"ph:0\", shape=(2, 3, 4), dtype=float32)\n"
     ]
    }
   ],
   "source": [
    "# 1.placeholder\n",
    "v1 = tf.placeholder(tf.float32, shape=[2,3,4]) \n",
    "print(v1.name)\n",
    "v1 = tf.placeholder(tf.float32, shape=[2,3,4], name='ph') \n",
    "print(v1.name) \n",
    "v11 = tf.placeholder(tf.float32, shape=[2,3,4], name='ph') \n",
    "print(v11.name) \n",
    "print(type(v1)) \n",
    "print(v1)"
   ]
  },
  {
   "cell_type": "code",
   "execution_count": 3,
   "metadata": {},
   "outputs": [
    {
     "name": "stdout",
     "output_type": "stream",
     "text": [
      "Variable:0\n",
      "V:0\n",
      "V_1:0\n",
      "<class 'tensorflow.python.ops.variables.Variable'>\n",
      "<tf.Variable 'V:0' shape=(2,) dtype=float32_ref>\n"
     ]
    }
   ],
   "source": [
    "v2 = tf.Variable([1,2], dtype=tf.float32) \n",
    "print(v2.name)\n",
    "v2 = tf.Variable([1,2], dtype=tf.float32, name='V') \n",
    "print(v2.name)\n",
    "v22 = tf.Variable([1,2], dtype=tf.float32, name='V') \n",
    "print(v22.name)\n",
    "print(type(v2))\n",
    "print(v2)\n"
   ]
  },
  {
   "cell_type": "code",
   "execution_count": 8,
   "metadata": {},
   "outputs": [
    {
     "ename": "NameError",
     "evalue": "name 'scope' is not defined",
     "output_type": "error",
     "traceback": [
      "\u001b[1;31m---------------------------------------------------------------------------\u001b[0m",
      "\u001b[1;31mNameError\u001b[0m                                 Traceback (most recent call last)",
      "\u001b[1;32m<ipython-input-8-d8f9b863fcab>\u001b[0m in \u001b[0;36m<module>\u001b[1;34m\u001b[0m\n\u001b[1;32m----> 1\u001b[1;33m \u001b[0mscope\u001b[0m\u001b[1;33m.\u001b[0m\u001b[0mreuse_variables\u001b[0m\u001b[1;33m(\u001b[0m\u001b[1;33m)\u001b[0m\u001b[1;33m\u001b[0m\u001b[0m\n\u001b[0m\u001b[0;32m      2\u001b[0m \u001b[0mv3\u001b[0m \u001b[1;33m=\u001b[0m \u001b[0mtf\u001b[0m\u001b[1;33m.\u001b[0m\u001b[0mget_variable\u001b[0m\u001b[1;33m(\u001b[0m\u001b[0mname\u001b[0m\u001b[1;33m=\u001b[0m\u001b[1;34m'gv'\u001b[0m\u001b[1;33m,\u001b[0m \u001b[0mshape\u001b[0m\u001b[1;33m=\u001b[0m\u001b[1;33m[\u001b[0m\u001b[1;33m]\u001b[0m\u001b[1;33m)\u001b[0m\u001b[1;33m\u001b[0m\u001b[0m\n\u001b[0;32m      3\u001b[0m \u001b[0mprint\u001b[0m\u001b[1;33m(\u001b[0m\u001b[0mv3\u001b[0m\u001b[1;33m.\u001b[0m\u001b[0mname\u001b[0m\u001b[1;33m)\u001b[0m\u001b[1;33m\u001b[0m\u001b[0m\n\u001b[0;32m      4\u001b[0m \u001b[0mv4\u001b[0m \u001b[1;33m=\u001b[0m \u001b[0mtf\u001b[0m\u001b[1;33m.\u001b[0m\u001b[0mget_variable\u001b[0m\u001b[1;33m(\u001b[0m\u001b[0mname\u001b[0m\u001b[1;33m=\u001b[0m\u001b[1;34m'1gv'\u001b[0m\u001b[1;33m,\u001b[0m \u001b[0mshape\u001b[0m\u001b[1;33m=\u001b[0m\u001b[1;33m[\u001b[0m\u001b[1;36m2\u001b[0m\u001b[1;33m]\u001b[0m\u001b[1;33m)\u001b[0m\u001b[1;33m\u001b[0m\u001b[0m\n\u001b[0;32m      5\u001b[0m \u001b[0mprint\u001b[0m\u001b[1;33m(\u001b[0m\u001b[0mv4\u001b[0m\u001b[1;33m.\u001b[0m\u001b[0mname\u001b[0m\u001b[1;33m)\u001b[0m\u001b[1;33m\u001b[0m\u001b[0m\n",
      "\u001b[1;31mNameError\u001b[0m: name 'scope' is not defined"
     ]
    }
   ],
   "source": [
    "scope.reuse_variables()\n",
    "v3 = tf.get_variable(name='gv', shape=[])  \n",
    "print(v3.name)\n",
    "v4 = tf.get_variable(name='1gv', shape=[2])\n",
    "print(v4.name)"
   ]
  },
  {
   "cell_type": "code",
   "execution_count": 5,
   "metadata": {},
   "outputs": [
    {
     "name": "stdout",
     "output_type": "stream",
     "text": [
      "5\n",
      "<tf.Variable 'Variable:0' shape=(2,) dtype=float32_ref>\n",
      "<tf.Variable 'V:0' shape=(2,) dtype=float32_ref>\n",
      "<tf.Variable 'V_1:0' shape=(2,) dtype=float32_ref>\n",
      "<tf.Variable 'gv:0' shape=() dtype=float32_ref>\n",
      "<tf.Variable '1gv:0' shape=(2,) dtype=float32_ref>\n"
     ]
    }
   ],
   "source": [
    "vs = tf.trainable_variables()\n",
    "print(len(vs))\n",
    "for v in vs:\n",
    "    print(v)"
   ]
  },
  {
   "cell_type": "markdown",
   "metadata": {},
   "source": [
    "tf.name_scope() 并不会对 tf.get_variable() 创建的变量有任何影响。 tf.name_scope() 主要是用来管理命名空间的，这样子让我们的整个模型更加有条理。而 tf.variable_scope() 的作用是为了实现变量共享，它和 tf.get_variable() 来完成变量共享的功能。\n"
   ]
  },
  {
   "cell_type": "code",
   "execution_count": 6,
   "metadata": {},
   "outputs": [
    {
     "name": "stdout",
     "output_type": "stream",
     "text": [
      "v1.name:  nsc1/v1:0\n",
      "v2.name:  nsc1/vsc1/v2:0\n",
      "v3.name:  vsc1/v3:0\n"
     ]
    }
   ],
   "source": [
    "with tf.name_scope('nsc1'):\n",
    "    v1 = tf.Variable([1], name='v1') \n",
    "    with tf.variable_scope('vsc1'): \n",
    "        v2 = tf.Variable([1], name='v2') \n",
    "        v3 = tf.get_variable(name='v3', shape=[]) \n",
    "        print( 'v1.name: ', v1.name )\n",
    "        print( 'v2.name: ', v2.name )\n",
    "        print( 'v3.name: ', v3.name)\n"
   ]
  },
  {
   "cell_type": "code",
   "execution_count": 9,
   "metadata": {},
   "outputs": [
    {
     "name": "stdout",
     "output_type": "stream",
     "text": [
      "a_variable_scope/var3:0\n",
      "[3.]\n",
      "a_variable_scope/var3:0\n",
      "[3.]\n",
      "a_variable_scope/var4:0\n",
      "[4.]\n",
      "a_variable_scope/var4_1:0\n",
      "[4.]\n"
     ]
    }
   ],
   "source": [
    "with tf.variable_scope(\"a_variable_scope\") as scope:\n",
    "    initializer = tf.constant_initializer(value=3)\n",
    "    var3 = tf.get_variable(name='var3', shape=[1], dtype=tf.float32, initializer=initializer)\n",
    "    scope.reuse_variables()\n",
    "    var3_reuse = tf.get_variable(name='var3',)\n",
    "    var4 = tf.Variable(name='var4', initial_value=[4], dtype=tf.float32)\n",
    "    var4_reuse = tf.Variable(name='var4', initial_value=[4], dtype=tf.float32)\n",
    "    \n",
    "with tf.Session() as sess:\n",
    "    sess.run(tf.global_variables_initializer())\n",
    "    print(var3.name)            # a_variable_scope/var3:0\n",
    "    print(sess.run(var3))       # [ 3.]\n",
    "    print(var3_reuse.name)      # a_variable_scope/var3:0\n",
    "    print(sess.run(var3_reuse)) # [ 3.]\n",
    "    print(var4.name)            # a_variable_scope/var4:0\n",
    "    print(sess.run(var4))       # [ 4.]\n",
    "    print(var4_reuse.name)      # a_variable_scope/var4_1:0\n",
    "    print(sess.run(var4_reuse)) # [ 4.]\n",
    "    \n"
   ]
  },
  {
   "cell_type": "code",
   "execution_count": null,
   "metadata": {},
   "outputs": [],
   "source": []
  }
 ],
 "metadata": {
  "kernelspec": {
   "display_name": "Python 3",
   "language": "python",
   "name": "python3"
  },
  "language_info": {
   "codemirror_mode": {
    "name": "ipython",
    "version": 3
   },
   "file_extension": ".py",
   "mimetype": "text/x-python",
   "name": "python",
   "nbconvert_exporter": "python",
   "pygments_lexer": "ipython3",
   "version": "3.6.1"
  }
 },
 "nbformat": 4,
 "nbformat_minor": 2
}
